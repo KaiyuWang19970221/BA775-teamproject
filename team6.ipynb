{
 "cells": [
  {
   "cell_type": "markdown",
   "id": "cddece59",
   "metadata": {},
   "source": [
    "# How to improve the safety of driving in Boston"
   ]
  },
  {
   "cell_type": "markdown",
   "id": "a461aea2",
   "metadata": {},
   "source": [
    "## Problem definition: \n",
    "Analyze the relationship between the frequency,severity of car accidents and some factors like time period, road sections, weather conditions and locations. Understand the patterns of car crashes that were taking place in Boston and what we could do to avoid a car crash. In addition, we are working on joining with another covid dataset to find out the influence of covid on car crashes."
   ]
  },
  {
   "cell_type": "markdown",
   "id": "48f22905",
   "metadata": {},
   "source": [
    "## Used dataset:\n",
    "* US Accidents (link:https://www.kaggle.com/sobhanmoosavi/us-accidents)"
   ]
  },
  {
   "cell_type": "markdown",
   "id": "2f0dd04e",
   "metadata": {},
   "source": [
    "### Overview of carcrash dataset:\n",
    "* ID: This is a unique identifier of the accident record.\n",
    "* Start_Time: Shows start time of the accident in local time zone.\n",
    "* County: Shows the county in address field.\n",
    "* Zipcode: Shows the zipcode in address field.\n",
    "* Severity: Shows the severity of the accident, a number between 1 and 4, where 1 indicates the least impact on traffic and 4 indicates largest.\n",
    "* Weather_Condition: Shows the weather condition (rain, snow, thunderstorm, fog, etc.)\n",
    "* Crossing: A POI annotation which indicates presence of crossing in a nearby location.\n",
    "* Give_Way: A POI annotation which indicates presence of give_way in a nearby location.\n",
    "* Junction: A POI annotation which indicates presence of junction in a nearby location.\n",
    "* No_Exit: A POI annotation which indicates presence of no_exit in a nearby location.\n",
    "* Railway: A POI annotation which indicates presence of railway in a nearby location.\n",
    "* Roundabout: A POI annotation which indicates presence of roundabout in a nearby location.\n",
    "* Station: A POI annotation which indicates presence of station in a nearby location.\n",
    "* Stop: A POI annotation which indicates presence of stop in a nearby location.\n",
    "* Traffic_Calming: A POI annotation which indicates presence of traffic_calming in a nearby location.\n",
    "* Traffic_Signal: A POI annotation which indicates presence of traffic_signal in a nearby loction.\n",
    "* Turning_Loop: A POI annotation which indicates presence of turning_loop in a nearby location."
   ]
  },
  {
   "cell_type": "code",
   "execution_count": 13,
   "id": "9caa2263",
   "metadata": {},
   "outputs": [
    {
     "name": "stderr",
     "output_type": "stream",
     "text": [
      "Query complete after 0.00s: 100%|██████████| 2/2 [00:00<00:00, 789.37query/s]                         \n",
      "Downloading: 100%|██████████| 3/3 [00:01<00:00,  2.74rows/s]\n"
     ]
    },
    {
     "data": {
      "text/html": [
       "<div>\n",
       "<style scoped>\n",
       "    .dataframe tbody tr th:only-of-type {\n",
       "        vertical-align: middle;\n",
       "    }\n",
       "\n",
       "    .dataframe tbody tr th {\n",
       "        vertical-align: top;\n",
       "    }\n",
       "\n",
       "    .dataframe thead th {\n",
       "        text-align: right;\n",
       "    }\n",
       "</style>\n",
       "<table border=\"1\" class=\"dataframe\">\n",
       "  <thead>\n",
       "    <tr style=\"text-align: right;\">\n",
       "      <th></th>\n",
       "      <th>ID</th>\n",
       "      <th>Severity</th>\n",
       "      <th>Start_Time</th>\n",
       "      <th>End_Time</th>\n",
       "      <th>Start_Lat</th>\n",
       "      <th>Start_Lng</th>\n",
       "      <th>End_Lat</th>\n",
       "      <th>End_Lng</th>\n",
       "      <th>Distance_mi_</th>\n",
       "      <th>Description</th>\n",
       "      <th>...</th>\n",
       "      <th>Roundabout</th>\n",
       "      <th>Station</th>\n",
       "      <th>Stop</th>\n",
       "      <th>Traffic_Calming</th>\n",
       "      <th>Traffic_Signal</th>\n",
       "      <th>Turning_Loop</th>\n",
       "      <th>Sunrise_Sunset</th>\n",
       "      <th>Civil_Twilight</th>\n",
       "      <th>Nautical_Twilight</th>\n",
       "      <th>Astronomical_Twilight</th>\n",
       "    </tr>\n",
       "  </thead>\n",
       "  <tbody>\n",
       "    <tr>\n",
       "      <th>0</th>\n",
       "      <td>A-1745081</td>\n",
       "      <td>2</td>\n",
       "      <td>2020-11-13 22:50:34+00:00</td>\n",
       "      <td>2020-11-14 00:35:34+00:00</td>\n",
       "      <td>45.505679</td>\n",
       "      <td>-122.780892</td>\n",
       "      <td>45.504015</td>\n",
       "      <td>-122.783203</td>\n",
       "      <td>0.160</td>\n",
       "      <td>A crash has the left lane closed SB at Wilshir...</td>\n",
       "      <td>...</td>\n",
       "      <td>False</td>\n",
       "      <td>False</td>\n",
       "      <td>False</td>\n",
       "      <td>False</td>\n",
       "      <td>False</td>\n",
       "      <td>False</td>\n",
       "      <td>Night</td>\n",
       "      <td>Night</td>\n",
       "      <td>Night</td>\n",
       "      <td>Night</td>\n",
       "    </tr>\n",
       "    <tr>\n",
       "      <th>1</th>\n",
       "      <td>A-1745082</td>\n",
       "      <td>2</td>\n",
       "      <td>2020-10-17 16:33:30+00:00</td>\n",
       "      <td>2020-10-17 20:24:30+00:00</td>\n",
       "      <td>36.771589</td>\n",
       "      <td>-76.257450</td>\n",
       "      <td>36.762995</td>\n",
       "      <td>-76.268282</td>\n",
       "      <td>0.844</td>\n",
       "      <td>Slow traffic on I-64 from Greenbrier Pkwy/Exit...</td>\n",
       "      <td>...</td>\n",
       "      <td>False</td>\n",
       "      <td>False</td>\n",
       "      <td>False</td>\n",
       "      <td>False</td>\n",
       "      <td>False</td>\n",
       "      <td>False</td>\n",
       "      <td>Day</td>\n",
       "      <td>Day</td>\n",
       "      <td>Day</td>\n",
       "      <td>Day</td>\n",
       "    </tr>\n",
       "    <tr>\n",
       "      <th>2</th>\n",
       "      <td>A-1745083</td>\n",
       "      <td>3</td>\n",
       "      <td>2017-10-02 15:58:09+00:00</td>\n",
       "      <td>2017-10-02 16:27:56+00:00</td>\n",
       "      <td>34.978237</td>\n",
       "      <td>-82.012154</td>\n",
       "      <td>34.978237</td>\n",
       "      <td>-82.012154</td>\n",
       "      <td>0.000</td>\n",
       "      <td>Accident on I-85 Southbound at Exit 70 I-26.</td>\n",
       "      <td>...</td>\n",
       "      <td>False</td>\n",
       "      <td>False</td>\n",
       "      <td>False</td>\n",
       "      <td>False</td>\n",
       "      <td>False</td>\n",
       "      <td>False</td>\n",
       "      <td>Day</td>\n",
       "      <td>Day</td>\n",
       "      <td>Day</td>\n",
       "      <td>Day</td>\n",
       "    </tr>\n",
       "  </tbody>\n",
       "</table>\n",
       "<p>3 rows × 47 columns</p>\n",
       "</div>"
      ],
      "text/plain": [
       "          ID  Severity                Start_Time                  End_Time  \\\n",
       "0  A-1745081         2 2020-11-13 22:50:34+00:00 2020-11-14 00:35:34+00:00   \n",
       "1  A-1745082         2 2020-10-17 16:33:30+00:00 2020-10-17 20:24:30+00:00   \n",
       "2  A-1745083         3 2017-10-02 15:58:09+00:00 2017-10-02 16:27:56+00:00   \n",
       "\n",
       "   Start_Lat   Start_Lng    End_Lat     End_Lng  Distance_mi_  \\\n",
       "0  45.505679 -122.780892  45.504015 -122.783203         0.160   \n",
       "1  36.771589  -76.257450  36.762995  -76.268282         0.844   \n",
       "2  34.978237  -82.012154  34.978237  -82.012154         0.000   \n",
       "\n",
       "                                         Description  ...  Roundabout Station  \\\n",
       "0  A crash has the left lane closed SB at Wilshir...  ...       False   False   \n",
       "1  Slow traffic on I-64 from Greenbrier Pkwy/Exit...  ...       False   False   \n",
       "2       Accident on I-85 Southbound at Exit 70 I-26.  ...       False   False   \n",
       "\n",
       "    Stop Traffic_Calming Traffic_Signal Turning_Loop Sunrise_Sunset  \\\n",
       "0  False           False          False        False          Night   \n",
       "1  False           False          False        False            Day   \n",
       "2  False           False          False        False            Day   \n",
       "\n",
       "  Civil_Twilight Nautical_Twilight Astronomical_Twilight  \n",
       "0          Night             Night                 Night  \n",
       "1            Day               Day                   Day  \n",
       "2            Day               Day                   Day  \n",
       "\n",
       "[3 rows x 47 columns]"
      ]
     },
     "execution_count": 13,
     "metadata": {},
     "output_type": "execute_result"
    }
   ],
   "source": [
    "%%bigquery\n",
    "SELECT * FROM `ba775-b2-team6.team6.US_Accidents` limit 3"
   ]
  },
  {
   "cell_type": "markdown",
   "id": "4bb11fd0",
   "metadata": {},
   "source": [
    "### This is an overview of total car crashes between 2015 and 2020. We will focus on the data in 2019 and 2020 for most of the remainder of the notebook because the data between 2014 and 2019 is very similar."
   ]
  }
 ],
 "metadata": {
  "environment": {
   "name": "common-cpu.m78",
   "type": "gcloud",
   "uri": "gcr.io/deeplearning-platform-release/base-cpu:m78"
  },
  "kernelspec": {
   "display_name": "Python 3",
   "language": "python",
   "name": "python3"
  },
  "language_info": {
   "codemirror_mode": {
    "name": "ipython",
    "version": 3
   },
   "file_extension": ".py",
   "mimetype": "text/x-python",
   "name": "python",
   "nbconvert_exporter": "python",
   "pygments_lexer": "ipython3",
   "version": "3.7.10"
  }
 },
 "nbformat": 4,
 "nbformat_minor": 5
}
