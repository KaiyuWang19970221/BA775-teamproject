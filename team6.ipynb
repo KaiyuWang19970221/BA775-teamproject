{
 "cells": [
  {
   "cell_type": "markdown",
   "id": "f56b9448",
   "metadata": {},
   "source": [
    "# How to improve the safety of driving in Boston"
   ]
  },
  {
   "cell_type": "markdown",
   "id": "290ba15a",
   "metadata": {},
   "source": [
    "## Problem definition: \n",
    "Analyze the relationship between the frequency,severity of car accidents and some factors like time period, road sections, weather conditions and locations. Understand the patterns of car crashes that were taking place in Boston and what we could do to avoid a car crash. In addition, we are working on joining with another covid dataset to find out the influence of covid on car crashes."
   ]
  },
  {
   "cell_type": "markdown",
   "id": "da237726",
   "metadata": {},
   "source": [
    "## Used dataset:\n",
    "* US Accidents (link:https://www.kaggle.com/sobhanmoosavi/us-accidents)"
   ]
  },
  {
   "cell_type": "markdown",
   "id": "5fb079a8",
   "metadata": {},
   "source": [
    "### Overview of carcrash dataset:\n",
    "* #### ID ####: This is a unique identifier of the accident record.\n",
    "* Start_Time: Shows start time of the accident in local time zone.\n",
    "* County: Shows the county in address field.\n",
    "* Zipcode: Shows the zipcode in address field.\n",
    "* Severity: Shows the severity of the accident, a number between 1 and 4, where 1 indicates the least impact on traffic and 4 indicates largest.\n",
    "* Weather_Condition: Shows the weather condition (rain, snow, thunderstorm, fog, etc.)\n",
    "* Crossing: A POI annotation which indicates presence of crossing in a nearby location.\tNo\n",
    "* Give_Way: A POI annotation which indicates presence of give_way in a nearby location.\tNo\n",
    "* Junction: A POI annotation which indicates presence of junction in a nearby location.\tNo\n",
    "* No_Exit: A POI annotation which indicates presence of no_exit in a nearby location.\tNo\n",
    "* Railway: A POI annotation which indicates presence of railway in a nearby location.\tNo\n",
    "* Roundabout: A POI annotation which indicates presence of roundabout in a nearby location.\tNo\n",
    "* Station: A POI annotation which indicates presence of station in a nearby location.\tNo\n",
    "* Stop: A POI annotation which indicates presence of stop in a nearby location.\tNo\n",
    "* Traffic_Calming: A POI annotation which indicates presence of traffic_calming in a nearby location.\tNo\n",
    "* Traffic_Signal: A POI annotation which indicates presence of traffic_signal in a nearby loction.\tNo\n",
    "* Turning_Loop: A POI annotation which indicates presence of turning_loop in a nearby location."
   ]
  }
 ],
 "metadata": {
  "environment": {
   "name": "common-cpu.m78",
   "type": "gcloud",
   "uri": "gcr.io/deeplearning-platform-release/base-cpu:m78"
  },
  "kernelspec": {
   "display_name": "Python 3",
   "language": "python",
   "name": "python3"
  },
  "language_info": {
   "codemirror_mode": {
    "name": "ipython",
    "version": 3
   },
   "file_extension": ".py",
   "mimetype": "text/x-python",
   "name": "python",
   "nbconvert_exporter": "python",
   "pygments_lexer": "ipython3",
   "version": "3.7.10"
  }
 },
 "nbformat": 4,
 "nbformat_minor": 5
}
