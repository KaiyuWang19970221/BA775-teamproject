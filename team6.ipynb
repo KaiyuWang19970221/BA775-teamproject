{
 "cells": [
  {
   "cell_type": "markdown",
   "id": "62f2b20b",
   "metadata": {},
   "source": [
    "# How to improve the safety of driving in Boston"
   ]
  },
  {
   "cell_type": "markdown",
   "id": "6ad16cf0",
   "metadata": {},
   "source": [
    "## sadfsd"
   ]
  },
  {
   "cell_type": "markdown",
   "id": "d859cd54",
   "metadata": {},
   "source": [
    "### fasdfa"
   ]
  },
  {
   "cell_type": "markdown",
   "id": "0e0fe92a",
   "metadata": {},
   "source": [
    "#### dfasdfasdf"
   ]
  },
  {
   "cell_type": "markdown",
   "id": "19b0511c",
   "metadata": {},
   "source": [
    "### Used dataset:\n",
    "* US Accidents (link:https://www.kaggle.com/sobhanmoosavi/us-accidents)"
   ]
  }
 ],
 "metadata": {
  "environment": {
   "name": "common-cpu.m78",
   "type": "gcloud",
   "uri": "gcr.io/deeplearning-platform-release/base-cpu:m78"
  },
  "kernelspec": {
   "display_name": "Python 3",
   "language": "python",
   "name": "python3"
  },
  "language_info": {
   "codemirror_mode": {
    "name": "ipython",
    "version": 3
   },
   "file_extension": ".py",
   "mimetype": "text/x-python",
   "name": "python",
   "nbconvert_exporter": "python",
   "pygments_lexer": "ipython3",
   "version": "3.7.10"
  }
 },
 "nbformat": 4,
 "nbformat_minor": 5
}
