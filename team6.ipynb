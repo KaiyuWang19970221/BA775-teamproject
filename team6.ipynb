{
 "cells": [
  {
   "cell_type": "markdown",
   "id": "64771cba",
   "metadata": {},
   "source": [
    "#### How to improve the safety of driving in Boston"
   ]
  },
  {
   "cell_type": "markdown",
   "id": "dbcbbc9d",
   "metadata": {},
   "source": [
    "*word"
   ]
  },
  {
   "cell_type": "code",
   "execution_count": null,
   "id": "c908dca2",
   "metadata": {},
   "outputs": [],
   "source": []
  }
 ],
 "metadata": {
  "environment": {
   "name": "common-cpu.m78",
   "type": "gcloud",
   "uri": "gcr.io/deeplearning-platform-release/base-cpu:m78"
  },
  "kernelspec": {
   "display_name": "Python 3",
   "language": "python",
   "name": "python3"
  },
  "language_info": {
   "codemirror_mode": {
    "name": "ipython",
    "version": 3
   },
   "file_extension": ".py",
   "mimetype": "text/x-python",
   "name": "python",
   "nbconvert_exporter": "python",
   "pygments_lexer": "ipython3",
   "version": "3.7.10"
  }
 },
 "nbformat": 4,
 "nbformat_minor": 5
}
